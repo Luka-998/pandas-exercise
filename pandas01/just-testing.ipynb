{
 "cells": [
  {
   "cell_type": "code",
   "execution_count": null,
   "metadata": {},
   "outputs": [],
   "source": [
    "import pandas as pd\n",
    "df = pd.read_csv('pokemon_data.csv')\n",
    "print(df.shape)\n",
    "#print(cols)\n",
    "df['Total']=df.iloc[:,4:10].sum(axis=1)\n",
    "cols= list(df.columns)\n",
    "df=df[cols[0:4]+[cols[-1]]+cols[4:12]]\n",
    "print(df.head(5))"
   ]
  },
  {
   "cell_type": "code",
   "execution_count": null,
   "metadata": {},
   "outputs": [],
   "source": [
    "#print(df.loc[df['Name']=='Bulbasaur'])\n",
    "#df.sort_values('Name', ascending=True)# Sortiranje nizvodno od A - Š, single colon\n",
    "df.sort_values(['Name','Type 1', 'HP'], ascending=False)"
   ]
  },
  {
   "cell_type": "code",
   "execution_count": null,
   "metadata": {},
   "outputs": [],
   "source": [
    "#Filtering data based on multiple conditions - Using the .loc[]\n",
    "import pandas as pd\n",
    "df = pd.read_csv('pokemon_data.csv')\n",
    "# get only the rows with Type 1 = fire and HP above 65\n",
    "filtered_df = df.loc[(df['Type 1']=='Fire') & (df['HP']>= 65)]\n",
    "#print(filtered_df)\n",
    "filtered_df.to_csv('Filtered_data', index=False)\n",
    "#data like this is useful but with the index remaning from the original DF is ugly so i will now remove the index, with index=False\n",
    "\n",
    "#filter out every pokemon name with 'Mega\" within\n",
    "\n",
    "filtered_mega_df = df.loc[df['Name'].str.contains('Mega')]\n",
    "#print(filtered_mega_df)\n",
    "# ~ filter out every row that cointains 'Mega'\n",
    "\n",
    "# Regex built in, powerful filtering data tool (| stands for \"or\")\n",
    "import re\n",
    "df.loc[df['Type 1'].str.contains('Fire|Grass', regex= True)]\n",
    "\n",
    "#get all pokemon names which start with 'Pi' \n",
    "# use the regex again\n",
    "\n",
    "df.loc[df['Name'].str.contains('^Pi[a-z]*',regex=True)] "
   ]
  },
  {
   "cell_type": "code",
   "execution_count": 60,
   "metadata": {},
   "outputs": [
    {
     "data": {
      "text/plain": [
       "'c:\\\\Users\\\\Admin\\\\pandas-exercise\\\\pandas01'"
      ]
     },
     "execution_count": 60,
     "metadata": {},
     "output_type": "execute_result"
    }
   ],
   "source": [
    "#GroupBy Aggregate statistics .sum(), count() and mean()\n",
    "import pandas as pd\n",
    "df = pd.read_csv('pokemon_data.csv')\n",
    "df.groupby(['Type 1']).mean(numeric_only=True).sort_values('Defense', ascending=False)\n",
    "\n",
    "df.groupby(['Type 1']).count() #counts how many Type 1's are there. If i add ['count'] it will give only 1 column\n",
    "df.groupby(['HP']).sum() # sums values under HP column\n",
    "\n",
    "import os\n",
    "os.getcwd()\n",
    "\n"
   ]
  }
 ],
 "metadata": {
  "kernelspec": {
   "display_name": "Python 3",
   "language": "python",
   "name": "python3"
  },
  "language_info": {
   "codemirror_mode": {
    "name": "ipython",
    "version": 3
   },
   "file_extension": ".py",
   "mimetype": "text/x-python",
   "name": "python",
   "nbconvert_exporter": "python",
   "pygments_lexer": "ipython3",
   "version": "3.11.4"
  }
 },
 "nbformat": 4,
 "nbformat_minor": 2
}
